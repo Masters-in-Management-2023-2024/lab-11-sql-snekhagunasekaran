{
  "cells": [
    {
      "cell_type": "markdown",
      "metadata": {
        "id": "aP14m83x1uvM"
      },
      "source": [
        "# Lab Exercise: SQL Analysis with Polars\n",
        "\n",
        "In this lab, you'll practice SQL queries using Polars' built-in SQL functionality. Complete each exercise by writing the appropriate SQL query."
      ]
    },
    {
      "cell_type": "code",
      "execution_count": 8,
      "metadata": {
        "id": "iZJ2KPgm1uvP",
        "colab": {
          "base_uri": "https://localhost:8080/"
        },
        "outputId": "feab0a03-e726-48a1-ddda-eedd17098fc2"
      },
      "outputs": [
        {
          "output_type": "stream",
          "name": "stdout",
          "text": [
            "Setup complete! Tables available:\n",
            "shape: (5, 1)\n",
            "┌──────────┐\n",
            "│ name     │\n",
            "│ ---      │\n",
            "│ str      │\n",
            "╞══════════╡\n",
            "│ airlines │\n",
            "│ airports │\n",
            "│ flights  │\n",
            "│ planes   │\n",
            "│ weather  │\n",
            "└──────────┘\n"
          ]
        }
      ],
      "source": [
        "# Setup - Run this cell first\n",
        "import polars as pl\n",
        "\n",
        "# Load data\n",
        "airlines = pl.read_csv('https://raw.githubusercontent.com/philhetzel/opan5510-class11/refs/heads/main/data/nyc_airlines.csv')\n",
        "airports = pl.read_csv('https://raw.githubusercontent.com/philhetzel/opan5510-class11/refs/heads/main/data/nyc_airports.csv')\n",
        "flights = pl.read_csv('https://raw.githubusercontent.com/philhetzel/opan5510-class11/refs/heads/main/data/nyc_flights.csv', null_values=\"NA\")\n",
        "planes = pl.read_csv('https://raw.githubusercontent.com/philhetzel/opan5510-class11/refs/heads/main/data/nyc_planes.csv', null_values=\"NA\")\n",
        "weather = pl.read_csv('https://raw.githubusercontent.com/philhetzel/opan5510-class11/refs/heads/main/data/nyc_weather.csv', null_values='NA', infer_schema_length=1000)\n",
        "\n",
        "flights  = flights.with_columns(pl.col(\"time_hour\").str.to_datetime())\n",
        "weather  = weather.with_columns(pl.col(\"time_hour\").str.to_datetime())\n",
        "\n",
        "# Rename the 'name' column in airports to avoid conflict during joins\n",
        "airports = airports.rename({\"name\": \"airport_name\"})\n",
        "\n",
        "# Create SQL context\n",
        "ctx = pl.SQLContext(\n",
        "    airlines=airlines,\n",
        "    airports=airports,\n",
        "    flights=flights,\n",
        "    planes=planes,\n",
        "    weather=weather,\n",
        "    eager=True\n",
        ")\n",
        "\n",
        "print(\"Setup complete! Tables available:\")\n",
        "print(ctx.execute(\"SHOW TABLES\"))"
      ]
    },
    {
      "cell_type": "markdown",
      "metadata": {
        "id": "NlWRU83O1uvQ"
      },
      "source": [
        "## Exercise 1: Basic Queries\n",
        "\n",
        "### 1.1 Find all unique carriers in the airlines table"
      ]
    },
    {
      "cell_type": "code",
      "execution_count": null,
      "metadata": {
        "id": "6k9ijTVz1uvQ",
        "colab": {
          "base_uri": "https://localhost:8080/"
        },
        "outputId": "daa8a9dc-2f5d-4f97-f7fc-541494a9d603"
      },
      "outputs": [
        {
          "output_type": "stream",
          "name": "stdout",
          "text": [
            "shape: (16, 1)\n",
            "┌─────────┐\n",
            "│ carrier │\n",
            "│ ---     │\n",
            "│ str     │\n",
            "╞═════════╡\n",
            "│ 9E      │\n",
            "│ AA      │\n",
            "│ AS      │\n",
            "│ B6      │\n",
            "│ DL      │\n",
            "│ …       │\n",
            "│ UA      │\n",
            "│ US      │\n",
            "│ VX      │\n",
            "│ WN      │\n",
            "│ YV      │\n",
            "└─────────┘\n"
          ]
        }
      ],
      "source": [
        "# Write your SQL query here\n",
        "result = ctx.execute(\"\"\"\n",
        "SELECT DISTINCT carrier\n",
        "FROM airlines\n",
        "\"\"\")\n",
        "\n",
        "print(result)"
      ]
    },
    {
      "cell_type": "markdown",
      "metadata": {
        "id": "Z9sZuCmn1uvR"
      },
      "source": [
        "### 1.2 Find the top 10 destinations by number of flights"
      ]
    },
    {
      "cell_type": "code",
      "execution_count": null,
      "metadata": {
        "id": "pTjF8uzS1uvR",
        "colab": {
          "base_uri": "https://localhost:8080/"
        },
        "outputId": "ef13ee15-02b8-4128-95c8-67c17da7cbe8"
      },
      "outputs": [
        {
          "output_type": "stream",
          "name": "stdout",
          "text": [
            "shape: (10, 2)\n",
            "┌──────┬─────────────┐\n",
            "│ dest ┆ num_flights │\n",
            "│ ---  ┆ ---         │\n",
            "│ str  ┆ u32         │\n",
            "╞══════╪═════════════╡\n",
            "│ ORD  ┆ 17283       │\n",
            "│ ATL  ┆ 17215       │\n",
            "│ LAX  ┆ 16174       │\n",
            "│ BOS  ┆ 15508       │\n",
            "│ MCO  ┆ 14082       │\n",
            "│ CLT  ┆ 14064       │\n",
            "│ SFO  ┆ 13331       │\n",
            "│ FLL  ┆ 12055       │\n",
            "│ MIA  ┆ 11728       │\n",
            "│ DCA  ┆ 9705        │\n",
            "└──────┴─────────────┘\n"
          ]
        }
      ],
      "source": [
        "# Write your SQL query here\n",
        "result = ctx.execute(\"\"\"\n",
        "SELECT dest, COUNT(*) as num_flights\n",
        "FROM flights\n",
        "GROUP BY dest\n",
        "ORDER BY num_flights DESC\n",
        "LIMIT 10\n",
        "\"\"\")\n",
        "\n",
        "print(result)"
      ]
    },
    {
      "cell_type": "markdown",
      "metadata": {
        "id": "iatssaMW1uvR"
      },
      "source": [
        "### 1.3 Find all flights that departed more than 2 hours late (120 minutes)"
      ]
    },
    {
      "cell_type": "code",
      "execution_count": null,
      "metadata": {
        "id": "Zk0c-qxi1uvR",
        "colab": {
          "base_uri": "https://localhost:8080/"
        },
        "outputId": "8beb30b8-738b-4d39-9730-77bec39ff8dd"
      },
      "outputs": [
        {
          "output_type": "stream",
          "name": "stdout",
          "text": [
            "shape: (9_723, 19)\n",
            "┌──────┬───────┬─────┬──────────┬───┬──────────┬──────┬────────┬─────────────────────────┐\n",
            "│ year ┆ month ┆ day ┆ dep_time ┆ … ┆ distance ┆ hour ┆ minute ┆ time_hour               │\n",
            "│ ---  ┆ ---   ┆ --- ┆ ---      ┆   ┆ ---      ┆ ---  ┆ ---    ┆ ---                     │\n",
            "│ i64  ┆ i64   ┆ i64 ┆ i64      ┆   ┆ i64      ┆ i64  ┆ i64    ┆ datetime[μs, UTC]       │\n",
            "╞══════╪═══════╪═════╪══════════╪═══╪══════════╪══════╪════════╪═════════════════════════╡\n",
            "│ 2013 ┆ 1     ┆ 1   ┆ 848      ┆ … ┆ 184      ┆ 18   ┆ 35     ┆ 2013-01-01 23:00:00 UTC │\n",
            "│ 2013 ┆ 1     ┆ 1   ┆ 957      ┆ … ┆ 200      ┆ 7    ┆ 33     ┆ 2013-01-01 12:00:00 UTC │\n",
            "│ 2013 ┆ 1     ┆ 1   ┆ 1114     ┆ … ┆ 1416     ┆ 9    ┆ 0      ┆ 2013-01-01 14:00:00 UTC │\n",
            "│ 2013 ┆ 1     ┆ 1   ┆ 1540     ┆ … ┆ 1598     ┆ 13   ┆ 38     ┆ 2013-01-01 18:00:00 UTC │\n",
            "│ 2013 ┆ 1     ┆ 1   ┆ 1815     ┆ … ┆ 1134     ┆ 13   ┆ 25     ┆ 2013-01-01 18:00:00 UTC │\n",
            "│ …    ┆ …     ┆ …   ┆ …        ┆ … ┆ …        ┆ …    ┆ …      ┆ …                       │\n",
            "│ 2013 ┆ 9     ┆ 30  ┆ 1823     ┆ … ┆ 765      ┆ 15   ┆ 45     ┆ 2013-09-30 19:00:00 UTC │\n",
            "│ 2013 ┆ 9     ┆ 30  ┆ 1951     ┆ … ┆ 708      ┆ 16   ┆ 49     ┆ 2013-09-30 20:00:00 UTC │\n",
            "│ 2013 ┆ 9     ┆ 30  ┆ 2053     ┆ … ┆ 746      ┆ 18   ┆ 15     ┆ 2013-09-30 22:00:00 UTC │\n",
            "│ 2013 ┆ 9     ┆ 30  ┆ 2159     ┆ … ┆ 301      ┆ 18   ┆ 45     ┆ 2013-09-30 22:00:00 UTC │\n",
            "│ 2013 ┆ 9     ┆ 30  ┆ 2235     ┆ … ┆ 944      ┆ 20   ┆ 1      ┆ 2013-10-01 00:00:00 UTC │\n",
            "└──────┴───────┴─────┴──────────┴───┴──────────┴──────┴────────┴─────────────────────────┘\n"
          ]
        }
      ],
      "source": [
        "# Write your SQL query here\n",
        "result = ctx.execute(\"\"\"\n",
        "SELECT *\n",
        "FROM flights\n",
        "WHERE dep_delay > 120\n",
        "\"\"\")\n",
        "\n",
        "print(result)"
      ]
    },
    {
      "cell_type": "markdown",
      "metadata": {
        "id": "GieUNylX1uvS"
      },
      "source": [
        "## Exercise 2: Aggregation\n",
        "\n",
        "### 2.1 Calculate the average departure delay for each origin airport"
      ]
    },
    {
      "cell_type": "code",
      "execution_count": null,
      "metadata": {
        "id": "JwEOZEc_1uvS",
        "colab": {
          "base_uri": "https://localhost:8080/"
        },
        "outputId": "91be93fb-1955-4eb1-a11a-b72ba311b5b7"
      },
      "outputs": [
        {
          "output_type": "stream",
          "name": "stdout",
          "text": [
            "shape: (3, 2)\n",
            "┌────────┬───────────┐\n",
            "│ origin ┆ avg_delay │\n",
            "│ ---    ┆ ---       │\n",
            "│ str    ┆ f64       │\n",
            "╞════════╪═══════════╡\n",
            "│ EWR    ┆ 15.107954 │\n",
            "│ JFK    ┆ 12.112159 │\n",
            "│ LGA    ┆ 10.346876 │\n",
            "└────────┴───────────┘\n"
          ]
        }
      ],
      "source": [
        "# Write your SQL query here\n",
        "result = ctx.execute(\"\"\"\n",
        "SELECT origin, AVG(dep_delay) as avg_delay\n",
        "FROM flights\n",
        "WHERE dep_delay IS NOT NULL\n",
        "GROUP BY origin\n",
        "ORDER BY avg_delay DESC\n",
        "\"\"\")\n",
        "\n",
        "print(result)"
      ]
    },
    {
      "cell_type": "markdown",
      "metadata": {
        "id": "ilzkVonk1uvS"
      },
      "source": [
        "### 2.2 Find the busiest month of the year\n",
        "\n",
        "Count the number of flights per month and find which month has the most flights."
      ]
    },
    {
      "cell_type": "code",
      "execution_count": null,
      "metadata": {
        "id": "7JTGQgRu1uvS",
        "colab": {
          "base_uri": "https://localhost:8080/"
        },
        "outputId": "e10046e7-8a37-4b76-c19f-db174b9eeb91"
      },
      "outputs": [
        {
          "output_type": "stream",
          "name": "stdout",
          "text": [
            "shape: (5, 19)\n",
            "┌──────┬───────┬─────┬──────────┬───┬──────────┬──────┬────────┬─────────────────────────┐\n",
            "│ year ┆ month ┆ day ┆ dep_time ┆ … ┆ distance ┆ hour ┆ minute ┆ time_hour               │\n",
            "│ ---  ┆ ---   ┆ --- ┆ ---      ┆   ┆ ---      ┆ ---  ┆ ---    ┆ ---                     │\n",
            "│ i64  ┆ i64   ┆ i64 ┆ i64      ┆   ┆ i64      ┆ i64  ┆ i64    ┆ datetime[μs, UTC]       │\n",
            "╞══════╪═══════╪═════╪══════════╪═══╪══════════╪══════╪════════╪═════════════════════════╡\n",
            "│ 2013 ┆ 1     ┆ 1   ┆ 517      ┆ … ┆ 1400     ┆ 5    ┆ 15     ┆ 2013-01-01 10:00:00 UTC │\n",
            "│ 2013 ┆ 1     ┆ 1   ┆ 533      ┆ … ┆ 1416     ┆ 5    ┆ 29     ┆ 2013-01-01 10:00:00 UTC │\n",
            "│ 2013 ┆ 1     ┆ 1   ┆ 542      ┆ … ┆ 1089     ┆ 5    ┆ 40     ┆ 2013-01-01 10:00:00 UTC │\n",
            "│ 2013 ┆ 1     ┆ 1   ┆ 544      ┆ … ┆ 1576     ┆ 5    ┆ 45     ┆ 2013-01-01 10:00:00 UTC │\n",
            "│ 2013 ┆ 1     ┆ 1   ┆ 554      ┆ … ┆ 762      ┆ 6    ┆ 0      ┆ 2013-01-01 11:00:00 UTC │\n",
            "└──────┴───────┴─────┴──────────┴───┴──────────┴──────┴────────┴─────────────────────────┘\n",
            "shape: (1, 2)\n",
            "┌───────┬─────────────┐\n",
            "│ month ┆ num_flights │\n",
            "│ ---   ┆ ---         │\n",
            "│ i64   ┆ u32         │\n",
            "╞═══════╪═════════════╡\n",
            "│ 7     ┆ 29425       │\n",
            "└───────┴─────────────┘\n"
          ]
        }
      ],
      "source": [
        "# First, let's check what columns are available\n",
        "result = ctx.execute(\"\"\"\n",
        "    SELECT *\n",
        "    FROM flights\n",
        "    LIMIT 5\n",
        "\"\"\")\n",
        "print(result)\n",
        "\n",
        "# Now write your query to find busiest month\n",
        "result = ctx.execute(\"\"\"\n",
        "SELECT month, COUNT(*) as num_flights\n",
        "FROM flights\n",
        "GROUP BY month\n",
        "ORDER BY num_flights DESC\n",
        "LIMIT 1\n",
        "\"\"\")\n",
        "\n",
        "print(result)"
      ]
    },
    {
      "cell_type": "markdown",
      "metadata": {
        "id": "YBYYa8Ko1uvS"
      },
      "source": [
        "### 2.3 Calculate the on-time performance rate for each carrier\n",
        "\n",
        "Consider a flight on-time if the departure delay is <= 15 minutes."
      ]
    },
    {
      "cell_type": "code",
      "execution_count": null,
      "metadata": {
        "id": "tFGDKt7c1uvT",
        "colab": {
          "base_uri": "https://localhost:8080/"
        },
        "outputId": "24839874-4bdb-4ce2-ac60-2f3c97e657d8"
      },
      "outputs": [
        {
          "output_type": "stream",
          "name": "stdout",
          "text": [
            "shape: (16, 2)\n",
            "┌─────────┬───────────────┐\n",
            "│ carrier ┆ total_flights │\n",
            "│ ---     ┆ ---           │\n",
            "│ str     ┆ u32           │\n",
            "╞═════════╪═══════════════╡\n",
            "│ AA      ┆ 32729         │\n",
            "│ YV      ┆ 601           │\n",
            "│ B6      ┆ 54635         │\n",
            "│ VX      ┆ 5162          │\n",
            "│ FL      ┆ 3260          │\n",
            "│ …       ┆ …             │\n",
            "│ US      ┆ 20536         │\n",
            "│ HA      ┆ 342           │\n",
            "│ AS      ┆ 714           │\n",
            "│ WN      ┆ 12275         │\n",
            "│ UA      ┆ 58665         │\n",
            "└─────────┴───────────────┘\n"
          ]
        }
      ],
      "source": [
        "# Write your SQL query here\n",
        "result = ctx.execute(\"\"\"\n",
        "SELECT carrier,\n",
        "COUNT(*) as total_flights\n",
        "FROM flights\n",
        "GROUP BY carrier\n",
        "\"\"\")\n",
        "\n",
        "on_time_flights = ctx.execute(\"\"\"\n",
        "SELECT carrier,\n",
        "COUNT(*) as on_time_flights\n",
        "FROM flights\n",
        "WHERE dep_delay <= 15\n",
        "GROUP BY carrier\n",
        "\"\"\")\n",
        "\n",
        "print(result)"
      ]
    },
    {
      "cell_type": "markdown",
      "metadata": {
        "id": "fDA_n_Ly1uvT"
      },
      "source": [
        "## Exercise 3: Joins\n",
        "\n",
        "### 3.1 List all flights with their airline names (not just carrier codes)\n",
        "\n",
        "Show the first 20 flights with carrier code, airline name, flight number, origin, and destination."
      ]
    },
    {
      "cell_type": "code",
      "execution_count": null,
      "metadata": {
        "id": "5Q9HGpI11uvT",
        "colab": {
          "base_uri": "https://localhost:8080/"
        },
        "outputId": "500298f6-0c63-414d-b2a7-96fc0566cb52"
      },
      "outputs": [
        {
          "output_type": "stream",
          "name": "stdout",
          "text": [
            "shape: (20, 5)\n",
            "┌─────────┬────────────────────────┬────────┬────────┬──────┐\n",
            "│ carrier ┆ name                   ┆ flight ┆ origin ┆ dest │\n",
            "│ ---     ┆ ---                    ┆ ---    ┆ ---    ┆ ---  │\n",
            "│ str     ┆ str                    ┆ i64    ┆ str    ┆ str  │\n",
            "╞═════════╪════════════════════════╪════════╪════════╪══════╡\n",
            "│ UA      ┆ United Air Lines Inc.  ┆ 1545   ┆ EWR    ┆ IAH  │\n",
            "│ UA      ┆ United Air Lines Inc.  ┆ 1714   ┆ LGA    ┆ IAH  │\n",
            "│ AA      ┆ American Airlines Inc. ┆ 1141   ┆ JFK    ┆ MIA  │\n",
            "│ B6      ┆ JetBlue Airways        ┆ 725    ┆ JFK    ┆ BQN  │\n",
            "│ DL      ┆ Delta Air Lines Inc.   ┆ 461    ┆ LGA    ┆ ATL  │\n",
            "│ …       ┆ …                      ┆ …      ┆ …      ┆ …    │\n",
            "│ B6      ┆ JetBlue Airways        ┆ 1806   ┆ JFK    ┆ BOS  │\n",
            "│ UA      ┆ United Air Lines Inc.  ┆ 1187   ┆ EWR    ┆ LAS  │\n",
            "│ B6      ┆ JetBlue Airways        ┆ 371    ┆ LGA    ┆ FLL  │\n",
            "│ MQ      ┆ Envoy Air              ┆ 4650   ┆ LGA    ┆ ATL  │\n",
            "│ B6      ┆ JetBlue Airways        ┆ 343    ┆ EWR    ┆ PBI  │\n",
            "└─────────┴────────────────────────┴────────┴────────┴──────┘\n"
          ]
        }
      ],
      "source": [
        "# Write your SQL query here\n",
        "result = ctx.execute(\"\"\"\n",
        "SELECT f.carrier, a.name, f.flight, f.origin, f.dest\n",
        "FROM flights f\n",
        "LEFT JOIN airlines a ON f.carrier = a.carrier\n",
        "LIMIT 20\n",
        "\"\"\")\n",
        "\n",
        "print(result)"
      ]
    },
    {
      "cell_type": "markdown",
      "metadata": {
        "id": "e3QjEL6p1uvT"
      },
      "source": [
        "### 3.2 Find the average age of planes for each carrier\n",
        "\n",
        "Hint: The planes table has a `year` column for manufacture year. Calculate age based on 2013."
      ]
    },
    {
      "cell_type": "code",
      "execution_count": null,
      "metadata": {
        "id": "UI-etxyt1uvT",
        "colab": {
          "base_uri": "https://localhost:8080/"
        },
        "outputId": "b67f0c41-edda-46bc-d26e-f70b3e0d82ca"
      },
      "outputs": [
        {
          "output_type": "stream",
          "name": "stdout",
          "text": [
            "shape: (16, 2)\n",
            "┌─────────┬───────────┐\n",
            "│ carrier ┆ avg_age   │\n",
            "│ ---     ┆ ---       │\n",
            "│ str     ┆ f64       │\n",
            "╞═════════╪═══════════╡\n",
            "│ MQ      ┆ 35.319    │\n",
            "│ AA      ┆ 25.869426 │\n",
            "│ DL      ┆ 16.372169 │\n",
            "│ UA      ┆ 13.207691 │\n",
            "│ FL      ┆ 11.385829 │\n",
            "│ …       ┆ …         │\n",
            "│ B6      ┆ 6.686702  │\n",
            "│ F9      ┆ 4.87874   │\n",
            "│ VX      ┆ 4.473643  │\n",
            "│ AS      ┆ 3.33662   │\n",
            "│ HA      ┆ 1.548387  │\n",
            "└─────────┴───────────┘\n"
          ]
        }
      ],
      "source": [
        "# Write your SQL query here\n",
        "result = ctx.execute(\"\"\"\n",
        "SELECT f.carrier, AVG(2013 - p.year) as avg_age\n",
        "FROM flights f\n",
        "LEFT JOIN planes p ON f.tailnum = p.tailnum\n",
        "GROUP BY f.carrier\n",
        "ORDER BY avg_age DESC\n",
        "\"\"\")\n",
        "\n",
        "print(result)"
      ]
    },
    {
      "cell_type": "markdown",
      "metadata": {
        "id": "ss8eYiVS1uvT"
      },
      "source": [
        "### 3.3 Find flights that experienced both departure delays and bad weather\n",
        "\n",
        "Join flights with weather data and find flights where departure delay > 30 minutes and either wind_speed > 20 or precip > 0.1"
      ]
    },
    {
      "cell_type": "code",
      "execution_count": null,
      "metadata": {
        "id": "QhHogPD41uvT",
        "colab": {
          "base_uri": "https://localhost:8080/"
        },
        "outputId": "97f1fe19-901d-4758-c333-4b85a2e10b57"
      },
      "outputs": [
        {
          "output_type": "stream",
          "name": "stdout",
          "text": [
            "shape: (5, 15)\n",
            "┌────────┬──────┬───────┬─────┬───┬────────┬──────────┬───────┬─────────────────────────┐\n",
            "│ origin ┆ year ┆ month ┆ day ┆ … ┆ precip ┆ pressure ┆ visib ┆ time_hour               │\n",
            "│ ---    ┆ ---  ┆ ---   ┆ --- ┆   ┆ ---    ┆ ---      ┆ ---   ┆ ---                     │\n",
            "│ str    ┆ i64  ┆ i64   ┆ i64 ┆   ┆ f64    ┆ f64      ┆ f64   ┆ datetime[μs, UTC]       │\n",
            "╞════════╪══════╪═══════╪═════╪═══╪════════╪══════════╪═══════╪═════════════════════════╡\n",
            "│ EWR    ┆ 2013 ┆ 1     ┆ 1   ┆ … ┆ 0.0    ┆ 1012.0   ┆ 10.0  ┆ 2013-01-01 06:00:00 UTC │\n",
            "│ EWR    ┆ 2013 ┆ 1     ┆ 1   ┆ … ┆ 0.0    ┆ 1012.3   ┆ 10.0  ┆ 2013-01-01 07:00:00 UTC │\n",
            "│ EWR    ┆ 2013 ┆ 1     ┆ 1   ┆ … ┆ 0.0    ┆ 1012.5   ┆ 10.0  ┆ 2013-01-01 08:00:00 UTC │\n",
            "│ EWR    ┆ 2013 ┆ 1     ┆ 1   ┆ … ┆ 0.0    ┆ 1012.2   ┆ 10.0  ┆ 2013-01-01 09:00:00 UTC │\n",
            "│ EWR    ┆ 2013 ┆ 1     ┆ 1   ┆ … ┆ 0.0    ┆ 1011.9   ┆ 10.0  ┆ 2013-01-01 10:00:00 UTC │\n",
            "└────────┴──────┴───────┴─────┴───┴────────┴──────────┴───────┴─────────────────────────┘\n",
            "shape: (9_292, 19)\n",
            "┌──────┬───────┬─────┬──────────┬───┬──────────┬──────┬────────┬─────────────────────────┐\n",
            "│ year ┆ month ┆ day ┆ dep_time ┆ … ┆ distance ┆ hour ┆ minute ┆ time_hour               │\n",
            "│ ---  ┆ ---   ┆ --- ┆ ---      ┆   ┆ ---      ┆ ---  ┆ ---    ┆ ---                     │\n",
            "│ i64  ┆ i64   ┆ i64 ┆ i64      ┆   ┆ i64      ┆ i64  ┆ i64    ┆ datetime[μs, UTC]       │\n",
            "╞══════╪═══════╪═════╪══════════╪═══╪══════════╪══════╪════════╪═════════════════════════╡\n",
            "│ 2013 ┆ 1     ┆ 1   ┆ 2217     ┆ … ┆ 1005     ┆ 21   ┆ 30     ┆ 2013-01-02 02:00:00 UTC │\n",
            "│ 2013 ┆ 1     ┆ 1   ┆ 2326     ┆ … ┆ 2248     ┆ 21   ┆ 30     ┆ 2013-01-02 02:00:00 UTC │\n",
            "│ 2013 ┆ 1     ┆ 4   ┆ 1238     ┆ … ┆ 820      ┆ 11   ┆ 59     ┆ 2013-01-04 16:00:00 UTC │\n",
            "│ 2013 ┆ 1     ┆ 4   ┆ 1400     ┆ … ┆ 212      ┆ 13   ┆ 20     ┆ 2013-01-04 18:00:00 UTC │\n",
            "│ 2013 ┆ 1     ┆ 4   ┆ 1455     ┆ … ┆ 187      ┆ 14   ┆ 22     ┆ 2013-01-04 19:00:00 UTC │\n",
            "│ …    ┆ …     ┆ …   ┆ …        ┆ … ┆ …        ┆ …    ┆ …      ┆ …                       │\n",
            "│ 2013 ┆ 9     ┆ 22  ┆ 1540     ┆ … ┆ 762      ┆ 14   ┆ 59     ┆ 2013-09-22 18:00:00 UTC │\n",
            "│ 2013 ┆ 9     ┆ 22  ┆ 1957     ┆ … ┆ 335      ┆ 18   ┆ 20     ┆ 2013-09-22 22:00:00 UTC │\n",
            "│ 2013 ┆ 9     ┆ 22  ┆ 2104     ┆ … ┆ 2153     ┆ 20   ┆ 22     ┆ 2013-09-23 00:00:00 UTC │\n",
            "│ 2013 ┆ 9     ┆ 22  ┆ 2111     ┆ … ┆ 2475     ┆ 20   ┆ 25     ┆ 2013-09-23 00:00:00 UTC │\n",
            "│ 2013 ┆ 9     ┆ 22  ┆ 2130     ┆ … ┆ 187      ┆ 20   ┆ 45     ┆ 2013-09-23 00:00:00 UTC │\n",
            "└──────┴───────┴─────┴──────────┴───┴──────────┴──────┴────────┴─────────────────────────┘\n"
          ]
        }
      ],
      "source": [
        "# First, explore the weather table structure\n",
        "result = ctx.execute(\"\"\"\n",
        "    SELECT *\n",
        "    FROM weather\n",
        "    LIMIT 5\n",
        "\"\"\")\n",
        "print(result)\n",
        "\n",
        "# Now write your join query\n",
        "result = ctx.execute(\"\"\"\n",
        "SELECT f.*\n",
        "FROM flights f\n",
        "JOIN weather w ON f.origin = w.origin AND f.time_hour = w.time_hour\n",
        "WHERE f.dep_delay > 30 AND (w.wind_speed > 20 OR w.precip > 0)\n",
        "\"\"\")\n",
        "\n",
        "print(result)"
      ]
    },
    {
      "cell_type": "markdown",
      "metadata": {
        "id": "8d4fiN2S1uvT"
      },
      "source": [
        "## Exercise 4: Advanced Queries\n",
        "\n",
        "### 4.1 Find the most popular aircraft types (by number of flights)\n",
        "\n",
        "Join flights with planes to get manufacturer and model information. Show top 10."
      ]
    },
    {
      "cell_type": "code",
      "execution_count": null,
      "metadata": {
        "id": "UsYF7SAC1uvU",
        "colab": {
          "base_uri": "https://localhost:8080/"
        },
        "outputId": "0bace118-6695-49bb-fb67-0cae75d5854c"
      },
      "outputs": [
        {
          "output_type": "stream",
          "name": "stdout",
          "text": [
            "shape: (10, 3)\n",
            "┌──────────────────┬─────────────────┬─────────────┐\n",
            "│ manufacturer     ┆ model           ┆ num_flights │\n",
            "│ ---              ┆ ---             ┆ ---         │\n",
            "│ str              ┆ str             ┆ u32         │\n",
            "╞══════════════════╪═════════════════╪═════════════╡\n",
            "│ null             ┆ null            ┆ 52606       │\n",
            "│ AIRBUS           ┆ A320-232        ┆ 31278       │\n",
            "│ EMBRAER          ┆ EMB-145LR       ┆ 28027       │\n",
            "│ EMBRAER          ┆ ERJ 190-100 IGW ┆ 23716       │\n",
            "│ AIRBUS INDUSTRIE ┆ A320-232        ┆ 14553       │\n",
            "│ EMBRAER          ┆ EMB-145XR       ┆ 14051       │\n",
            "│ BOEING           ┆ 737-824         ┆ 13809       │\n",
            "│ BOMBARDIER INC   ┆ CL-600-2D24     ┆ 11807       │\n",
            "│ BOEING           ┆ 737-7H4         ┆ 10389       │\n",
            "│ BOEING           ┆ 757-222         ┆ 9150        │\n",
            "└──────────────────┴─────────────────┴─────────────┘\n"
          ]
        }
      ],
      "source": [
        "# Write your SQL query here\n",
        "result = ctx.execute(\"\"\"\n",
        "SELECT p.manufacturer, p.model, COUNT(*) as num_flights\n",
        "FROM flights f\n",
        "LEFT JOIN planes p ON f.tailnum = p.tailnum\n",
        "GROUP BY p.manufacturer, p.model\n",
        "ORDER BY num_flights DESC\n",
        "LIMIT 10\n",
        "\"\"\")\n",
        "\n",
        "print(result)"
      ]
    },
    {
      "cell_type": "markdown",
      "metadata": {
        "id": "i8Ff4FNZ1uvU"
      },
      "source": [
        "### 4.2 Analyze route performance\n",
        "\n",
        "Find the top 10 routes (origin-destination pairs) with:\n",
        "- Total number of flights\n",
        "- Average departure delay\n",
        "- Percentage of flights delayed more than 30 minutes\n",
        "\n",
        "Include airport names, not just codes."
      ]
    },
    {
      "cell_type": "code",
      "execution_count": null,
      "metadata": {
        "id": "XxU6X-zu1uvU",
        "colab": {
          "base_uri": "https://localhost:8080/"
        },
        "outputId": "adf55a67-c4bb-4fd6-8cf6-905bd937a8c8"
      },
      "outputs": [
        {
          "output_type": "stream",
          "name": "stdout",
          "text": [
            "shape: (10, 4)\n",
            "┌────────┬──────┬───────────────┬───────────┐\n",
            "│ origin ┆ dest ┆ total_flights ┆ avg_delay │\n",
            "│ ---    ┆ ---  ┆ ---           ┆ ---       │\n",
            "│ str    ┆ str  ┆ u32           ┆ f64       │\n",
            "╞════════╪══════╪═══════════════╪═══════════╡\n",
            "│ JFK    ┆ LAX  ┆ 11196         ┆ 8.522508  │\n",
            "│ LGA    ┆ ATL  ┆ 10082         ┆ 11.448621 │\n",
            "│ LGA    ┆ ORD  ┆ 8548          ┆ 10.740758 │\n",
            "│ JFK    ┆ SFO  ┆ 8138          ┆ 11.952691 │\n",
            "│ LGA    ┆ CLT  ┆ 5969          ┆ 8.965321  │\n",
            "│ EWR    ┆ ORD  ┆ 5851          ┆ 14.644163 │\n",
            "│ JFK    ┆ BOS  ┆ 5786          ┆ 11.694953 │\n",
            "│ LGA    ┆ MIA  ┆ 5725          ┆ 7.361747  │\n",
            "│ JFK    ┆ MCO  ┆ 5434          ┆ 10.601583 │\n",
            "│ EWR    ┆ BOS  ┆ 5251          ┆ 12.54561  │\n",
            "└────────┴──────┴───────────────┴───────────┘\n"
          ]
        }
      ],
      "source": [
        "# Write your SQL query here\n",
        "result = ctx.execute(\"\"\"\n",
        "SELECT f.origin, f.dest, COUNT(*) as total_flights, AVG(f.dep_delay) as avg_delay\n",
        "FROM flights f\n",
        "WHERE f.dep_delay IS NOT NULL\n",
        "GROUP BY f.origin, f.dest\n",
        "ORDER BY total_flights DESC\n",
        "LIMIT 10\n",
        "\"\"\")\n",
        "\n",
        "\n",
        "print(result)"
      ]
    },
    {
      "cell_type": "code",
      "execution_count": null,
      "metadata": {
        "id": "eG1AC0Ni1uvU",
        "colab": {
          "base_uri": "https://localhost:8080/"
        },
        "outputId": "2c2d72dd-03f6-4cfc-eb75-c39dc5ea1798"
      },
      "outputs": [
        {
          "output_type": "stream",
          "name": "stdout",
          "text": [
            "shape: (223, 4)\n",
            "┌────────┬──────┬───────────────┬───────────┐\n",
            "│ origin ┆ dest ┆ total_flights ┆ avg_delay │\n",
            "│ ---    ┆ ---  ┆ ---           ┆ ---       │\n",
            "│ str    ┆ str  ┆ u32           ┆ f64       │\n",
            "╞════════╪══════╪═══════════════╪═══════════╡\n",
            "│ JFK    ┆ LAX  ┆ 11196         ┆ 8.522508  │\n",
            "│ LGA    ┆ ATL  ┆ 10082         ┆ 11.448621 │\n",
            "│ LGA    ┆ ORD  ┆ 8548          ┆ 10.740758 │\n",
            "│ JFK    ┆ SFO  ┆ 8138          ┆ 11.952691 │\n",
            "│ LGA    ┆ CLT  ┆ 5969          ┆ 8.965321  │\n",
            "│ …      ┆ …    ┆ …             ┆ …         │\n",
            "│ JFK    ┆ JAC  ┆ 2             ┆ 5.0       │\n",
            "│ JFK    ┆ STL  ┆ 1             ┆ 20.0      │\n",
            "│ LGA    ┆ LEX  ┆ 1             ┆ -9.0      │\n",
            "│ JFK    ┆ BHM  ┆ 1             ┆ 7.0       │\n",
            "│ JFK    ┆ MEM  ┆ 1             ┆ 14.0      │\n",
            "└────────┴──────┴───────────────┴───────────┘\n"
          ]
        }
      ],
      "source": [
        "# Write your SQL query here\n",
        "result = ctx.execute(\"\"\"\n",
        "SELECT f.origin, f.dest, COUNT(*) as total_flights, AVG(f.dep_delay) as avg_delay\n",
        "FROM flights f\n",
        "WHERE f.dep_delay IS NOT NULL\n",
        "GROUP BY f.origin, f.dest\n",
        "ORDER BY total_flights DESC\n",
        "\"\"\")\n",
        "\n",
        "\n",
        "print(result)"
      ]
    },
    {
      "cell_type": "markdown",
      "metadata": {
        "id": "NGNcCx7l1uvU"
      },
      "source": [
        "## Bonus: Compare with Polars\n",
        "\n",
        "### Choose one of the queries above and implement it using Polars\n",
        "\n",
        "This will help you understand the relationship between SQL and Polars operations."
      ]
    },
    {
      "cell_type": "code",
      "execution_count": null,
      "metadata": {
        "id": "t7eBSUt21uvU",
        "colab": {
          "base_uri": "https://localhost:8080/"
        },
        "outputId": "712ccc82-5eef-4d02-aef9-87c5e38d7441"
      },
      "outputs": [
        {
          "output_type": "stream",
          "name": "stdout",
          "text": [
            "SQL Result:\n",
            "shape: (3, 2)\n",
            "┌────────┬───────────┐\n",
            "│ origin ┆ avg_delay │\n",
            "│ ---    ┆ ---       │\n",
            "│ str    ┆ f64       │\n",
            "╞════════╪═══════════╡\n",
            "│ EWR    ┆ 15.107954 │\n",
            "│ JFK    ┆ 12.112159 │\n",
            "│ LGA    ┆ 10.346876 │\n",
            "└────────┴───────────┘\n",
            "\n",
            "Polars Result:\n",
            "shape: (3, 2)\n",
            "┌────────┬───────────┐\n",
            "│ origin ┆ avg_delay │\n",
            "│ ---    ┆ ---       │\n",
            "│ str    ┆ f64       │\n",
            "╞════════╪═══════════╡\n",
            "│ EWR    ┆ 15.107954 │\n",
            "│ JFK    ┆ 12.112159 │\n",
            "│ LGA    ┆ 10.346876 │\n",
            "└────────┴───────────┘\n",
            "\n",
            "Polars Result:\n",
            "shape: (9_723, 19)\n",
            "┌──────┬───────┬─────┬──────────┬───┬──────────┬──────┬────────┬─────────────────────────┐\n",
            "│ year ┆ month ┆ day ┆ dep_time ┆ … ┆ distance ┆ hour ┆ minute ┆ time_hour               │\n",
            "│ ---  ┆ ---   ┆ --- ┆ ---      ┆   ┆ ---      ┆ ---  ┆ ---    ┆ ---                     │\n",
            "│ i64  ┆ i64   ┆ i64 ┆ i64      ┆   ┆ i64      ┆ i64  ┆ i64    ┆ datetime[μs, UTC]       │\n",
            "╞══════╪═══════╪═════╪══════════╪═══╪══════════╪══════╪════════╪═════════════════════════╡\n",
            "│ 2013 ┆ 1     ┆ 1   ┆ 848      ┆ … ┆ 184      ┆ 18   ┆ 35     ┆ 2013-01-01 23:00:00 UTC │\n",
            "│ 2013 ┆ 1     ┆ 1   ┆ 957      ┆ … ┆ 200      ┆ 7    ┆ 33     ┆ 2013-01-01 12:00:00 UTC │\n",
            "│ 2013 ┆ 1     ┆ 1   ┆ 1114     ┆ … ┆ 1416     ┆ 9    ┆ 0      ┆ 2013-01-01 14:00:00 UTC │\n",
            "│ 2013 ┆ 1     ┆ 1   ┆ 1540     ┆ … ┆ 1598     ┆ 13   ┆ 38     ┆ 2013-01-01 18:00:00 UTC │\n",
            "│ 2013 ┆ 1     ┆ 1   ┆ 1815     ┆ … ┆ 1134     ┆ 13   ┆ 25     ┆ 2013-01-01 18:00:00 UTC │\n",
            "│ …    ┆ …     ┆ …   ┆ …        ┆ … ┆ …        ┆ …    ┆ …      ┆ …                       │\n",
            "│ 2013 ┆ 9     ┆ 30  ┆ 1823     ┆ … ┆ 765      ┆ 15   ┆ 45     ┆ 2013-09-30 19:00:00 UTC │\n",
            "│ 2013 ┆ 9     ┆ 30  ┆ 1951     ┆ … ┆ 708      ┆ 16   ┆ 49     ┆ 2013-09-30 20:00:00 UTC │\n",
            "│ 2013 ┆ 9     ┆ 30  ┆ 2053     ┆ … ┆ 746      ┆ 18   ┆ 15     ┆ 2013-09-30 22:00:00 UTC │\n",
            "│ 2013 ┆ 9     ┆ 30  ┆ 2159     ┆ … ┆ 301      ┆ 18   ┆ 45     ┆ 2013-09-30 22:00:00 UTC │\n",
            "│ 2013 ┆ 9     ┆ 30  ┆ 2235     ┆ … ┆ 944      ┆ 20   ┆ 1      ┆ 2013-10-01 00:00:00 UTC │\n",
            "└──────┴───────┴─────┴──────────┴───┴──────────┴──────┴────────┴─────────────────────────┘\n"
          ]
        }
      ],
      "source": [
        "# Example: Let's implement Exercise 2.1 (average delay by origin) in Polars\n",
        "\n",
        "# SQL version (for reference)\n",
        "sql_result = ctx.execute(\"\"\"\n",
        "    SELECT\n",
        "        origin,\n",
        "        AVG(dep_delay) as avg_delay\n",
        "    FROM flights\n",
        "    WHERE dep_delay IS NOT NULL\n",
        "    GROUP BY origin\n",
        "    ORDER BY avg_delay DESC\n",
        "\"\"\")\n",
        "\n",
        "# Polars version\n",
        "polars_result = (\n",
        "    flights\n",
        "    .filter(pl.col('dep_delay').is_not_null())\n",
        "    .group_by('origin')\n",
        "    .agg(pl.col('dep_delay').mean().alias('avg_delay'))\n",
        "    .sort('avg_delay', descending=True)\n",
        ")\n",
        "\n",
        "print(\"SQL Result:\")\n",
        "print(sql_result)\n",
        "print(\"\\nPolars Result:\")\n",
        "print(polars_result)\n",
        "\n",
        "# Now implement one of your own queries in Polars below: Polars version of Exercise 1.3: Flights with dep_delay > 120\n",
        "# SQL version\n",
        "sql_result = ctx.execute(\"\"\"\n",
        "    SELECT *\n",
        "    FROM flights\n",
        "    WHERE dep_delay > 120\n",
        "\"\"\")\n",
        "\n",
        "# Your Polars code here\n",
        "polars_result = (\n",
        "    flights\n",
        "    .filter(pl.col('dep_delay') > 120)\n",
        ")\n",
        "\n",
        "print(\"\\nPolars Result:\")\n",
        "print(polars_result)\n"
      ]
    }
  ],
  "metadata": {
    "kernelspec": {
      "display_name": "Python 3",
      "language": "python",
      "name": "python3"
    },
    "language_info": {
      "codemirror_mode": {
        "name": "ipython",
        "version": 3
      },
      "file_extension": ".py",
      "mimetype": "text/x-python",
      "name": "python",
      "nbconvert_exporter": "python",
      "pygments_lexer": "ipython3",
      "version": "3.8.0"
    },
    "colab": {
      "provenance": []
    }
  },
  "nbformat": 4,
  "nbformat_minor": 0
}